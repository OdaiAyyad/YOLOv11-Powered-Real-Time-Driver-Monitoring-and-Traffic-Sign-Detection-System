Google Colab notebook for training the YOLOv11 model on the Traffic Signs Detection Dataset (TSD)
